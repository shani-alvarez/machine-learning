{
 "cells": [
  {
   "cell_type": "code",
   "execution_count": null,
   "id": "605add98-cf0f-4ba8-b229-fc570f7d016e",
   "metadata": {},
   "outputs": [],
   "source": [
    "import pandas as pd\n",
    "import numpy as np\n",
    "import seaborn as sns\n",
    "import sys\n",
    "import os\n",
    "import glob\n",
    "import geopandas as gp\n",
    "import matplotlib.pyplot as plt\n",
    "\n",
    "from PreProcessing import PreProcessingCrimeData\n",
    "from PreProcessing import PreProcessingShapefiles\n",
    "\n",
    "pd.set_option('display.max_rows', 500)\n",
    "pd.set_option('display.max_columns', 500)\n",
    "pd.set_option('display.width', 1000)\n",
    "np.set_printoptions(threshold=sys.maxsize)"
   ]
  },
  {
   "cell_type": "markdown",
   "id": "043cf21b-c4f0-4e40-a190-8396a8abb9bb",
   "metadata": {},
   "source": [
    "# 1. Crime and victims data"
   ]
  },
  {
   "cell_type": "code",
   "execution_count": null,
   "id": "4a9bfddd-f2eb-4d78-952c-17023cf5cfce",
   "metadata": {},
   "outputs": [],
   "source": [
    "ppc = PreProcessingCrimeData('crime')\n",
    "ppv = PreProcessingCrimeData('victims')\n",
    "ppc.getDirectories()"
   ]
  },
  {
   "cell_type": "code",
   "execution_count": null,
   "id": "f59a477f-1981-4cdf-99fb-5aa196106bb2",
   "metadata": {},
   "outputs": [],
   "source": [
    "crime_list = ['homicidio doloso', 'lesiones dolosas', 'violación simple', 'violación equiparada', 'abuso sexual', \n",
    "              'acoso sexual', 'robo a transeunte en via publica', 'robo a pasajero a bordo de transporte publico colectivo', \n",
    "              'robo de vehiculo']\n",
    "crime_features_list = ['date_events', 'crimeType', 'crimeTypeViolence', 'neighborhood_events', 'longitude', 'latitude']\n",
    "victims_features_list = ['date_events', 'sex', 'age', 'crimeType', 'crimeTypeViolence', 'neighborhood_events', 'longitude', 'latitude']"
   ]
  },
  {
   "cell_type": "code",
   "execution_count": null,
   "id": "548ae4d8-5c2d-4d97-a863-7f4cb2d57a8b",
   "metadata": {},
   "outputs": [],
   "source": [
    "pp_crime_data = ppc.preProcessCrime(2019, 2021, crime_list, crime_features_list)"
   ]
  },
  {
   "cell_type": "code",
   "execution_count": null,
   "id": "cee905ea-27ab-4ee5-93a8-8b6d0b2dd539",
   "metadata": {},
   "outputs": [],
   "source": [
    "pp_victims_data = ppv.preProcessVictims(2019, 2021, crime_list, victims_features_list)"
   ]
  },
  {
   "cell_type": "markdown",
   "id": "bfaa4924-9622-45ae-af0c-232be26bd4b3",
   "metadata": {},
   "source": [
    "# 2. Shapefiles (environmental data)"
   ]
  },
  {
   "cell_type": "markdown",
   "id": "8f63a440-0c72-412a-aebd-ea168337c140",
   "metadata": {},
   "source": [
    "See ShapefilePreProcessing.ipynb "
   ]
  },
  {
   "cell_type": "markdown",
   "id": "e6eb00f2-7b8c-455a-87bb-1d9d6b08d11f",
   "metadata": {},
   "source": [
    "# 3. Merge pre-processed crime, victims and environmental data"
   ]
  },
  {
   "cell_type": "code",
   "execution_count": null,
   "id": "0ff392f7-4dd5-4c67-9522-becc954253f4",
   "metadata": {},
   "outputs": [],
   "source": [
    "# Read pre-processed crime data\n",
    "pp_crime_data = ppc.loadProcessedDatasets()\n",
    "pp_crime_data.head(3)"
   ]
  },
  {
   "cell_type": "code",
   "execution_count": null,
   "id": "6e2166a3-c090-4300-a91e-543888838d38",
   "metadata": {},
   "outputs": [],
   "source": [
    "# Read pre-processed victims data\n",
    "pp_victims_data = ppv.loadProcessedDatasets()\n",
    "pp_victims_data.head(3)"
   ]
  },
  {
   "cell_type": "code",
   "execution_count": null,
   "id": "85850f1e-3a49-42d8-b418-9fb1e5faffb2",
   "metadata": {},
   "outputs": [],
   "source": [
    "# Read pre-processed shapefile\n",
    "pps = PreProcessingShapefiles()\n",
    "pp_shapefiles = pps.loadProcessedData()\n",
    "pp_shapefiles.head(3)"
   ]
  },
  {
   "cell_type": "code",
   "execution_count": null,
   "id": "1bd889c3-7c8b-47e3-b800-851b14418521",
   "metadata": {},
   "outputs": [],
   "source": [
    "gdf_crime_data = pps.setGeometryProjection(pp_crime_data)\n",
    "gdf_victims_data = pps.setGeometryProjection(pp_victims_data)"
   ]
  },
  {
   "cell_type": "code",
   "execution_count": null,
   "id": "c8229a2f-2c9a-4fec-b84e-a50865126ccf",
   "metadata": {},
   "outputs": [],
   "source": [
    "gdf_crime_data.head(3)"
   ]
  },
  {
   "cell_type": "code",
   "execution_count": null,
   "id": "af8bf43a-7a3b-499a-a792-09a826b6edb6",
   "metadata": {},
   "outputs": [],
   "source": [
    "gdf_victims_data.head(3)"
   ]
  },
  {
   "cell_type": "code",
   "execution_count": null,
   "id": "271f4194-6d17-44a4-b217-f0c7d0646ac5",
   "metadata": {},
   "outputs": [],
   "source": [
    "ax = pp_shapefiles.plot(figsize=(5,5))\n",
    "gdf_crime_data.plot(ax=ax, color = 'yellow')\n",
    "plt.show()"
   ]
  },
  {
   "cell_type": "code",
   "execution_count": null,
   "id": "817a5de0-5e85-4f0f-a9da-25a93c99823f",
   "metadata": {},
   "outputs": [],
   "source": [
    "ax = pp_shapefiles.plot(figsize=(5,5))\n",
    "gdf_victims_data.plot(ax=ax, color = 'yellow')\n",
    "plt.show()"
   ]
  },
  {
   "cell_type": "code",
   "execution_count": null,
   "id": "6a065f23-abae-4d08-a105-4ad3af1d8e6e",
   "metadata": {},
   "outputs": [],
   "source": [
    "merged_crime_data, merged_victims_data = pps.joinPointsAttributes([gdf_crime_data, gdf_victims_data], pp_shapefiles)"
   ]
  },
  {
   "cell_type": "code",
   "execution_count": null,
   "id": "68b754a7-ce3f-4c21-b2cd-4fb61253406a",
   "metadata": {},
   "outputs": [],
   "source": [
    "merged_crime_data.head(3)"
   ]
  },
  {
   "cell_type": "code",
   "execution_count": null,
   "id": "4811c60d-ec77-4b44-a36e-8b4cd18121f9",
   "metadata": {},
   "outputs": [],
   "source": [
    "merged_crime_data.columns"
   ]
  },
  {
   "cell_type": "code",
   "execution_count": null,
   "id": "aef23c71-8e1b-495f-8d6c-08bf900176aa",
   "metadata": {},
   "outputs": [],
   "source": [
    "merged_victims_data.head(3)"
   ]
  },
  {
   "cell_type": "code",
   "execution_count": null,
   "id": "24099079-ee1e-4f5f-8ebf-7538800c0145",
   "metadata": {},
   "outputs": [],
   "source": [
    "merged_crime_data.isna().sum()[-10:]"
   ]
  },
  {
   "cell_type": "code",
   "execution_count": null,
   "id": "08019869-f4e2-4ea3-b07b-da677094e941",
   "metadata": {},
   "outputs": [],
   "source": [
    "merged_victims_data.isna().sum()[-12:]"
   ]
  },
  {
   "cell_type": "code",
   "execution_count": null,
   "id": "f978b977-6e7a-4a4a-8f22-6c8e0b9b26d5",
   "metadata": {},
   "outputs": [],
   "source": [
    "def aggregateAge(data):\n",
    "    \n",
    "    def categorizeAge(row):\n",
    "        if 0 <= row['age'] < 18:\n",
    "            category = 'less than 18'\n",
    "        elif 18 <= row['age'] < 30:\n",
    "            category = '18 to 29'\n",
    "        elif 30 <= row['age'] < 40:\n",
    "            category = '30 to 39'\n",
    "        elif 40 <= row['age'] < 50:\n",
    "            category = '40 to 49'\n",
    "        elif 50 <= row['age'] < 60:\n",
    "            category = '50 to 59'\n",
    "        elif 60 <= row['age'] <= 120:\n",
    "            category = 'more than 60'\n",
    "        else:\n",
    "            category = 'not registered'\n",
    "        return category\n",
    "\n",
    "    df = data.copy()\n",
    "    df.age.fillna(-99, inplace=True)\n",
    "    df[\"age_categ\"] = df.apply(lambda x: categorizeAge(x), axis=1)\n",
    "    return df\n",
    "    "
   ]
  },
  {
   "cell_type": "code",
   "execution_count": null,
   "id": "d8585e20-1ec8-40ed-a796-1896d8765fc3",
   "metadata": {
    "tags": []
   },
   "outputs": [],
   "source": [
    "merged_victims_data = aggregateAge(merged_victims_data)\n",
    "merged_victims_data.head(3)"
   ]
  },
  {
   "cell_type": "markdown",
   "id": "52cc309a-77bf-4821-99e9-b6026b4532b1",
   "metadata": {},
   "source": [
    "## 3.1 Aggregate victims data"
   ]
  },
  {
   "cell_type": "code",
   "execution_count": null,
   "id": "d515ddae-7f9a-46b5-97ea-8f457d2d0408",
   "metadata": {},
   "outputs": [],
   "source": [
    "# Aggregate per year, month and take median of age and count sex types\n",
    "\n",
    "def aggregateVictimData(data, feature):\n",
    "    if feature == 'sex':\n",
    "        df = pd.pivot_table(data, index=['year_event', 'month_event', 'key_neighb'], values='date_events',  \n",
    "                   columns=['sex'], aggfunc={'count'}, fill_value=0).reset_index()\n",
    "        df2 = pd.concat([df[['year_event', 'month_event', 'key_neighb']], df['count']], axis=1)\n",
    "        df2.columns = ['year_event', 'month_event', 'key_neighb', 'women_vic', 'men_vic', 'unregistered']\n",
    "        df2[\"year_event\"] = df2[\"year_event\"].astype('int32')\n",
    "        df2[\"month_event\"] = df2[\"month_event\"].astype('int32')\n",
    "        df2[\"year_event\"] = df2[\"year_event\"].astype('string')\n",
    "        df2[\"month_event\"] = df2[\"month_event\"].astype('string')\n",
    "        df2 = df2.assign(unique_id = lambda x: df2[\"year_event\"] + df2[\"month_event\"] + df2[\"key_neighb\"])\n",
    "        df3 = df2.drop([\"year_event\", \"month_event\", \"key_neighb\", \"unregistered\"], axis=1)\n",
    "        return df3\n",
    "    elif feature == 'age':\n",
    "        df = pd.pivot_table(data, index=['year_event', 'month_event', 'key_neighb'], values='date_events',  \n",
    "                   columns=['age_categ'], aggfunc={'count'}, fill_value=0).reset_index()\n",
    "        df2 = pd.concat([df[['year_event', 'month_event', 'key_neighb']], df['count']], axis=1)\n",
    "        df2.columns = ['year_event', 'month_event', 'key_neighb', \"less than 18\", \"18 to 29\", \"30 to 39\", \"40 to 49\", \"50 to 59\", \"more than 60\", \"not registered\"]\n",
    "        df2[\"year_event\"] = df2[\"year_event\"].astype('int32')\n",
    "        df2[\"month_event\"] = df2[\"month_event\"].astype('int32')\n",
    "        df2[\"year_event\"] = df2[\"year_event\"].astype('string')\n",
    "        df2[\"month_event\"] = df2[\"month_event\"].astype('string')\n",
    "        df2 = df2.assign(unique_id = lambda x: df2[\"year_event\"] + df2[\"month_event\"] + df2[\"key_neighb\"])\n",
    "        df3 = df2.drop([\"year_event\", \"month_event\", \"key_neighb\", \"not registered\"], axis=1)\n",
    "        #df3 = df2.drop([\"not registered\"], axis=1)\n",
    "        return df3\n",
    "    else:\n",
    "        print('Choose the feature over which to aggregate.')\n",
    "    return df3"
   ]
  },
  {
   "cell_type": "code",
   "execution_count": null,
   "id": "c5ae42c0-a088-478e-8777-da65af9c9801",
   "metadata": {},
   "outputs": [],
   "source": [
    "sex_features = aggregateVictimData(merged_victims_data, 'sex')\n",
    "print(sex_features.shape[0], '\\n')\n",
    "sex_features.head(3)"
   ]
  },
  {
   "cell_type": "code",
   "execution_count": null,
   "id": "c0797164-2e4d-4655-99c2-2fdef28e520e",
   "metadata": {},
   "outputs": [],
   "source": [
    "age_features = aggregateVictimData(merged_victims_data, 'age')\n",
    "print(age_features.shape[0], '\\n')\n",
    "age_features.head(3)"
   ]
  },
  {
   "cell_type": "code",
   "execution_count": null,
   "id": "e35fb038-6a39-4df9-a230-0b4e0f6f8d9a",
   "metadata": {},
   "outputs": [],
   "source": [
    "# Merge both datasets\n",
    "merged_features = sex_features.merge(age_features, how=\"left\", on=\"unique_id\")\n",
    "merged_features.head()"
   ]
  },
  {
   "cell_type": "code",
   "execution_count": null,
   "id": "7043d30c-a90c-45b9-a7d8-ae758ba2912f",
   "metadata": {},
   "outputs": [],
   "source": [
    "def divideDataPerMonthYear(data):\n",
    "    list_dfs = []\n",
    "    for year in data.year_event.unique():\n",
    "        print(\"For the year \" + str(year) + \"...\")\n",
    "        df = data[data.year_event == year]\n",
    "        for month in df.month_event.unique():\n",
    "            df2 = df[df.month_event == month]\n",
    "            list_dfs.append(df2)\n",
    "    print(len(list_dfs))\n",
    "    return list_dfs"
   ]
  },
  {
   "cell_type": "code",
   "execution_count": null,
   "id": "21c7dd2c-185d-422d-9b39-17566c479ce2",
   "metadata": {},
   "outputs": [],
   "source": [
    "list_shapefiles = divideDataPerMonthYear(gdf_crime_data)"
   ]
  },
  {
   "cell_type": "code",
   "execution_count": null,
   "id": "711721c0-a82f-4347-ae7f-dcdfdee3d0b0",
   "metadata": {},
   "outputs": [],
   "source": [
    "list_shapefiles[0].head(3)"
   ]
  },
  {
   "cell_type": "code",
   "execution_count": null,
   "id": "094d5905-8392-4847-ad60-b39708d9acc2",
   "metadata": {},
   "outputs": [],
   "source": [
    "gdf_crime_data.head(3)"
   ]
  },
  {
   "cell_type": "code",
   "execution_count": null,
   "id": "7a98fdb7-9893-4fef-be24-b128bd0b90dc",
   "metadata": {},
   "outputs": [],
   "source": [
    "gdf_crime_data.isna().sum()"
   ]
  },
  {
   "cell_type": "markdown",
   "id": "7ed9e4db-5a30-4cc9-8b23-13fa58632496",
   "metadata": {},
   "source": [
    "# 4. Count crime and victims reports points in neighborhoods"
   ]
  },
  {
   "cell_type": "code",
   "execution_count": null,
   "id": "0d7cafbc-4b87-47c4-bec7-c0befc22c8d2",
   "metadata": {},
   "outputs": [],
   "source": [
    "def countCrimePointsInPolygon(crime_shapefile, polygon_shapefile):\n",
    "    gdf = polygon_shapefile.copy()\n",
    "    gdf_counts = gdf.merge(gdf.sjoin(crime_shapefile, predicate='contains').groupby('key_neighb').size().rename('crime_count').reset_index(), how='left').fillna(0)\n",
    "    gdf_counts['crime_count'] = gdf_counts['crime_count'].astype('int32')\n",
    "    month = str(crime_shapefile.month_event.unique()[0])\n",
    "    year = str(crime_shapefile.year_event.unique()[0])\n",
    "    gdf_counts['month_event'] = month\n",
    "    gdf_counts['year_event'] = year\n",
    "    gdf_final = gdf_counts.assign(unique_id = lambda x: gdf_counts[\"year_event\"] + gdf_counts[\"month_event\"] + gdf_counts[\"key_neighb\"])\n",
    "    return gdf_final\n",
    "\n",
    "def mergeAllCrimeCounts(list_crime_shapefiles, polygon_shapefile):\n",
    "    list_gdfs = []\n",
    "    for shapefile in list_crime_shapefiles:\n",
    "        gdf = countCrimePointsInPolygon(shapefile, polygon_shapefile)\n",
    "        list_gdfs.append(gdf)\n",
    "    concat_gds = pd.concat(list_gdfs)\n",
    "    return concat_gds\n",
    "    \n",
    "def mergeAllFeatures(data, df_merged_features):\n",
    "    gdfs = data.merge(df_merged_features, how=\"left\", on=\"unique_id\")\n",
    "    gdfs = gdfs[['unique_id', 'month_event', 'year_event', 'key_neighb', 'name_neigh', 'key_boroug', 'name_borou', 'cablebus_s', 'commer_ven', 'health_cen', 'metro_sta', 'pmarkets', 'pparking', 'hospitals', \n",
    "                 'train_sta', 'trolebus_s', 'cablebus_l', 'ptransp_ro', 'main_roads', 'metro_line', 'rtp_lines', 'train_line', 'trolebus_l', 'centres_va', 'be_schools', \n",
    "                 'commercial', 'industrial', 'service_un', 'crime_count', 'women_vic', 'men_vic', 'less than 18', '18 to 29', '30 to 39', '40 to 49', \n",
    "                 '50 to 59', 'more than 60', 'geometry']]\n",
    "    gdfs.fillna(0, inplace=True)\n",
    "    cols_list = ['women_vic', 'men_vic', 'less than 18', '18 to 29', '30 to 39', '40 to 49', '50 to 59', 'more than 60'] \n",
    "    for col in cols_list:\n",
    "        gdfs[col] = gdfs[col].astype('int32')\n",
    "    #gdfs.set_index('unique_id', inplace=True)\n",
    "    return gdfs\n",
    "    "
   ]
  },
  {
   "cell_type": "code",
   "execution_count": null,
   "id": "bca570e1-199d-4539-b164-1a5243431429",
   "metadata": {},
   "outputs": [],
   "source": [
    "pre_final_gdf = mergeAllCrimeCounts(list_shapefiles, pp_shapefiles)\n",
    "pre_final_gdf.head()"
   ]
  },
  {
   "cell_type": "code",
   "execution_count": null,
   "id": "7ec470b7-0763-403c-8450-0ce1805bc111",
   "metadata": {},
   "outputs": [],
   "source": [
    "pre_final_gdf.shape[0]"
   ]
  },
  {
   "cell_type": "code",
   "execution_count": null,
   "id": "42003037-c4d4-48fb-967e-460c52b12230",
   "metadata": {},
   "outputs": [],
   "source": [
    "final_preproc_gdf = mergeAllFeatures(pre_final_gdf, merged_features)\n",
    "final_preproc_gdf.head()"
   ]
  },
  {
   "cell_type": "code",
   "execution_count": null,
   "id": "34d53e08-8125-436c-b4ea-9dd909b0d4ca",
   "metadata": {},
   "outputs": [],
   "source": [
    "final_preproc_gdf.isna().sum()"
   ]
  },
  {
   "cell_type": "code",
   "execution_count": null,
   "id": "d9036cc1-2f05-495f-a499-d3d3594379fd",
   "metadata": {},
   "outputs": [],
   "source": [
    "final_preproc_gdf.to_file(os.path.normpath(os.path.join(os.getcwd(), '../data/preprocessed')) + '/shapefiles/preprocessed_final_data.shp', driver ='ESRI Shapefile')\n",
    "final_preproc_gdf.to_csv(os.path.normpath(os.path.join(os.getcwd(), '../data/preprocessed')) + '/preprocessed_final_data.csv')\n"
   ]
  }
 ],
 "metadata": {
  "kernelspec": {
   "display_name": "Python 3 (ipykernel)",
   "language": "python",
   "name": "python3"
  },
  "language_info": {
   "codemirror_mode": {
    "name": "ipython",
    "version": 3
   },
   "file_extension": ".py",
   "mimetype": "text/x-python",
   "name": "python",
   "nbconvert_exporter": "python",
   "pygments_lexer": "ipython3",
   "version": "3.9.7"
  }
 },
 "nbformat": 4,
 "nbformat_minor": 5
}
