{
 "cells": [
  {
   "cell_type": "code",
   "execution_count": 1,
   "id": "f5d800ff-9c9b-418d-81fd-e8407c9e32c1",
   "metadata": {},
   "outputs": [],
   "source": [
    "import pandas as pd\n",
    "import numpy as np\n",
    "import seaborn as sns\n",
    "import matplotlib.pyplot as plt\n",
    "\n",
    "from PreProcessing import PreProcessingCrimeData\n",
    "\n",
    "pd.set_option('display.max_rows', 500)\n",
    "pd.set_option('display.max_columns', 500)\n",
    "pd.set_option('display.width', 1000)\n",
    "np.set_printoptions(threshold=sys.maxsize)"
   ]
  },
  {
   "cell_type": "markdown",
   "id": "702a9e0e-beb0-4c7a-ad16-4f14535ae34d",
   "metadata": {},
   "source": [
    "# Exploratory analysis of crime data"
   ]
  },
  {
   "cell_type": "code",
   "execution_count": 2,
   "id": "d8355ae0-9cec-47cd-9f50-fe26b3976369",
   "metadata": {},
   "outputs": [
    {
     "data": {
      "text/html": [
       "<div>\n",
       "<style scoped>\n",
       "    .dataframe tbody tr th:only-of-type {\n",
       "        vertical-align: middle;\n",
       "    }\n",
       "\n",
       "    .dataframe tbody tr th {\n",
       "        vertical-align: top;\n",
       "    }\n",
       "\n",
       "    .dataframe thead th {\n",
       "        text-align: right;\n",
       "    }\n",
       "</style>\n",
       "<table border=\"1\" class=\"dataframe\">\n",
       "  <thead>\n",
       "    <tr style=\"text-align: right;\">\n",
       "      <th></th>\n",
       "      <th>date_events</th>\n",
       "      <th>crimeType</th>\n",
       "      <th>crimeTypeViolence</th>\n",
       "      <th>neighborhood_events</th>\n",
       "      <th>longitude</th>\n",
       "      <th>latitude</th>\n",
       "      <th>year_event</th>\n",
       "      <th>month_event</th>\n",
       "      <th>day_event</th>\n",
       "      <th>hour_event</th>\n",
       "    </tr>\n",
       "  </thead>\n",
       "  <tbody>\n",
       "    <tr>\n",
       "      <th>0</th>\n",
       "      <td>2019-05-16 17:40:00</td>\n",
       "      <td>robo a transeunte en via publica</td>\n",
       "      <td>con violencia</td>\n",
       "      <td>ampliacion adolfo lopez mateos</td>\n",
       "      <td>-99.07436</td>\n",
       "      <td>19.41617</td>\n",
       "      <td>2019</td>\n",
       "      <td>5</td>\n",
       "      <td>16</td>\n",
       "      <td>17</td>\n",
       "    </tr>\n",
       "    <tr>\n",
       "      <th>1</th>\n",
       "      <td>2019-05-08 19:45:00</td>\n",
       "      <td>robo a pasajero a bordo de transporte publico ...</td>\n",
       "      <td>sin violencia</td>\n",
       "      <td>roma norte</td>\n",
       "      <td>-99.17112</td>\n",
       "      <td>19.42161</td>\n",
       "      <td>2019</td>\n",
       "      <td>5</td>\n",
       "      <td>8</td>\n",
       "      <td>19</td>\n",
       "    </tr>\n",
       "    <tr>\n",
       "      <th>2</th>\n",
       "      <td>2019-05-16 13:00:00</td>\n",
       "      <td>robo de vehiculo</td>\n",
       "      <td>sin registro</td>\n",
       "      <td>san miguel</td>\n",
       "      <td>-99.08437</td>\n",
       "      <td>19.35537</td>\n",
       "      <td>2019</td>\n",
       "      <td>5</td>\n",
       "      <td>16</td>\n",
       "      <td>13</td>\n",
       "    </tr>\n",
       "    <tr>\n",
       "      <th>3</th>\n",
       "      <td>2019-05-17 00:30:00</td>\n",
       "      <td>abuso sexual</td>\n",
       "      <td>sin registro</td>\n",
       "      <td>2a. ampliación santiago acahualtepec</td>\n",
       "      <td>-99.00997</td>\n",
       "      <td>19.34455</td>\n",
       "      <td>2019</td>\n",
       "      <td>5</td>\n",
       "      <td>17</td>\n",
       "      <td>0</td>\n",
       "    </tr>\n",
       "    <tr>\n",
       "      <th>4</th>\n",
       "      <td>2019-05-17 13:00:00</td>\n",
       "      <td>robo a transeunte en via publica</td>\n",
       "      <td>con violencia</td>\n",
       "      <td>morelos</td>\n",
       "      <td>-99.12875</td>\n",
       "      <td>19.44318</td>\n",
       "      <td>2019</td>\n",
       "      <td>5</td>\n",
       "      <td>17</td>\n",
       "      <td>13</td>\n",
       "    </tr>\n",
       "  </tbody>\n",
       "</table>\n",
       "</div>"
      ],
      "text/plain": [
       "           date_events                                          crimeType crimeTypeViolence                   neighborhood_events  longitude  latitude  year_event  month_event  day_event  hour_event\n",
       "0  2019-05-16 17:40:00                   robo a transeunte en via publica     con violencia        ampliacion adolfo lopez mateos  -99.07436  19.41617        2019            5         16          17\n",
       "1  2019-05-08 19:45:00  robo a pasajero a bordo de transporte publico ...     sin violencia                            roma norte  -99.17112  19.42161        2019            5          8          19\n",
       "2  2019-05-16 13:00:00                                   robo de vehiculo      sin registro                            san miguel  -99.08437  19.35537        2019            5         16          13\n",
       "3  2019-05-17 00:30:00                                       abuso sexual      sin registro  2a. ampliación santiago acahualtepec  -99.00997  19.34455        2019            5         17           0\n",
       "4  2019-05-17 13:00:00                   robo a transeunte en via publica     con violencia                               morelos  -99.12875  19.44318        2019            5         17          13"
      ]
     },
     "execution_count": 2,
     "metadata": {},
     "output_type": "execute_result"
    }
   ],
   "source": [
    "processed_crime_data = pd.read_csv(r'D:\\Google Drive\\University of York courses\\Independent Research Proposal\\dissertation\\data\\preprocessed\\preprocessed_crime_data.csv')\n",
    "processed_crime_data.head()"
   ]
  },
  {
   "cell_type": "markdown",
   "id": "0babea87-cfc9-46ea-918a-30f38b64b46f",
   "metadata": {},
   "source": [
    "## 2019"
   ]
  },
  {
   "cell_type": "code",
   "execution_count": 5,
   "id": "a0a66dac-7a93-40b8-b167-1167f841b4e3",
   "metadata": {},
   "outputs": [
    {
     "name": "stdout",
     "output_type": "stream",
     "text": [
      "Number of neighborhoods:  1482\n",
      "\n"
     ]
    },
    {
     "data": {
      "text/html": [
       "<div>\n",
       "<style scoped>\n",
       "    .dataframe tbody tr th:only-of-type {\n",
       "        vertical-align: middle;\n",
       "    }\n",
       "\n",
       "    .dataframe tbody tr th {\n",
       "        vertical-align: top;\n",
       "    }\n",
       "\n",
       "    .dataframe thead th {\n",
       "        text-align: right;\n",
       "    }\n",
       "</style>\n",
       "<table border=\"1\" class=\"dataframe\">\n",
       "  <thead>\n",
       "    <tr style=\"text-align: right;\">\n",
       "      <th></th>\n",
       "      <th>date_events</th>\n",
       "      <th>crimeType</th>\n",
       "      <th>crimeTypeViolence</th>\n",
       "      <th>neighborhood_events</th>\n",
       "      <th>longitude</th>\n",
       "      <th>latitude</th>\n",
       "      <th>year_event</th>\n",
       "      <th>month_event</th>\n",
       "      <th>day_event</th>\n",
       "      <th>hour_event</th>\n",
       "    </tr>\n",
       "  </thead>\n",
       "  <tbody>\n",
       "    <tr>\n",
       "      <th>0</th>\n",
       "      <td>2019-05-16 17:40:00</td>\n",
       "      <td>robo a transeunte en via publica</td>\n",
       "      <td>con violencia</td>\n",
       "      <td>ampliacion adolfo lopez mateos</td>\n",
       "      <td>-99.07436</td>\n",
       "      <td>19.41617</td>\n",
       "      <td>2019</td>\n",
       "      <td>5</td>\n",
       "      <td>16</td>\n",
       "      <td>17</td>\n",
       "    </tr>\n",
       "    <tr>\n",
       "      <th>1</th>\n",
       "      <td>2019-05-08 19:45:00</td>\n",
       "      <td>robo a pasajero a bordo de transporte publico ...</td>\n",
       "      <td>sin violencia</td>\n",
       "      <td>roma norte</td>\n",
       "      <td>-99.17112</td>\n",
       "      <td>19.42161</td>\n",
       "      <td>2019</td>\n",
       "      <td>5</td>\n",
       "      <td>8</td>\n",
       "      <td>19</td>\n",
       "    </tr>\n",
       "    <tr>\n",
       "      <th>2</th>\n",
       "      <td>2019-05-16 13:00:00</td>\n",
       "      <td>robo de vehiculo</td>\n",
       "      <td>sin registro</td>\n",
       "      <td>san miguel</td>\n",
       "      <td>-99.08437</td>\n",
       "      <td>19.35537</td>\n",
       "      <td>2019</td>\n",
       "      <td>5</td>\n",
       "      <td>16</td>\n",
       "      <td>13</td>\n",
       "    </tr>\n",
       "  </tbody>\n",
       "</table>\n",
       "</div>"
      ],
      "text/plain": [
       "           date_events                                          crimeType crimeTypeViolence             neighborhood_events  longitude  latitude  year_event  month_event  day_event  hour_event\n",
       "0  2019-05-16 17:40:00                   robo a transeunte en via publica     con violencia  ampliacion adolfo lopez mateos  -99.07436  19.41617        2019            5         16          17\n",
       "1  2019-05-08 19:45:00  robo a pasajero a bordo de transporte publico ...     sin violencia                      roma norte  -99.17112  19.42161        2019            5          8          19\n",
       "2  2019-05-16 13:00:00                                   robo de vehiculo      sin registro                      san miguel  -99.08437  19.35537        2019            5         16          13"
      ]
     },
     "execution_count": 5,
     "metadata": {},
     "output_type": "execute_result"
    }
   ],
   "source": [
    "# For 2019\n",
    "crime_data_19 = processed_crime_data[processed_crime_data.year_event == 2019].reset_index(drop=True)\n",
    "print(\"Number of neighborhoods: \", len(crime_data_19.neighborhood_events.unique()))\n",
    "print()\n",
    "crime_data_19.head(3)"
   ]
  },
  {
   "cell_type": "code",
   "execution_count": 6,
   "id": "774b8148-4cbe-4f18-a8fd-7118d07f9efa",
   "metadata": {},
   "outputs": [
    {
     "name": "stdout",
     "output_type": "stream",
     "text": [
      "Shape of dataframe:  (11162, 3)\n",
      "\n"
     ]
    },
    {
     "data": {
      "text/html": [
       "<div>\n",
       "<style scoped>\n",
       "    .dataframe tbody tr th:only-of-type {\n",
       "        vertical-align: middle;\n",
       "    }\n",
       "\n",
       "    .dataframe tbody tr th {\n",
       "        vertical-align: top;\n",
       "    }\n",
       "\n",
       "    .dataframe thead th {\n",
       "        text-align: right;\n",
       "    }\n",
       "</style>\n",
       "<table border=\"1\" class=\"dataframe\">\n",
       "  <thead>\n",
       "    <tr style=\"text-align: right;\">\n",
       "      <th></th>\n",
       "      <th>month_event</th>\n",
       "      <th>neighborhood_events</th>\n",
       "      <th>count</th>\n",
       "    </tr>\n",
       "  </thead>\n",
       "  <tbody>\n",
       "    <tr>\n",
       "      <th>0</th>\n",
       "      <td>1</td>\n",
       "      <td>10 de abril</td>\n",
       "      <td>1</td>\n",
       "    </tr>\n",
       "    <tr>\n",
       "      <th>1</th>\n",
       "      <td>1</td>\n",
       "      <td>10 de mayo</td>\n",
       "      <td>2</td>\n",
       "    </tr>\n",
       "    <tr>\n",
       "      <th>2</th>\n",
       "      <td>1</td>\n",
       "      <td>12 de diciembre</td>\n",
       "      <td>1</td>\n",
       "    </tr>\n",
       "    <tr>\n",
       "      <th>3</th>\n",
       "      <td>1</td>\n",
       "      <td>15 de agosto</td>\n",
       "      <td>2</td>\n",
       "    </tr>\n",
       "    <tr>\n",
       "      <th>4</th>\n",
       "      <td>1</td>\n",
       "      <td>16 de septiembre</td>\n",
       "      <td>2</td>\n",
       "    </tr>\n",
       "  </tbody>\n",
       "</table>\n",
       "</div>"
      ],
      "text/plain": [
       "   month_event neighborhood_events  count\n",
       "0            1         10 de abril      1\n",
       "1            1          10 de mayo      2\n",
       "2            1     12 de diciembre      1\n",
       "3            1        15 de agosto      2\n",
       "4            1    16 de septiembre      2"
      ]
     },
     "execution_count": 6,
     "metadata": {},
     "output_type": "execute_result"
    }
   ],
   "source": [
    "pt_crime_data_19 = pd.pivot_table(crime_data_19, index=['month_event', 'neighborhood_events'], values='date_events',  columns=['year_event'], \n",
    "                                aggfunc='count').reset_index()\n",
    "pt_crime_data_19.columns=[\"month_event\", \"neighborhood_events\", \"count\"]\n",
    "print(\"Shape of dataframe: \", pt_crime_data_19.shape)\n",
    "print()\n",
    "pt_crime_data_19.head()"
   ]
  },
  {
   "cell_type": "code",
   "execution_count": 7,
   "id": "78f3a196-0a1a-445a-9723-31e9eca96a3d",
   "metadata": {},
   "outputs": [
    {
     "data": {
      "image/png": "[encoded data removed]",
      "text/plain": [
       "<Figure size 360x144 with 1 Axes>"
      ]
     },
     "metadata": {
      "needs_background": "light"
     },
     "output_type": "display_data"
    },
    {
     "data": {
      "image/png": "[encoded data removed]",
      "text/plain": [
       "<Figure size 360x144 with 1 Axes>"
      ]
     },
     "metadata": {
      "needs_background": "light"
     },
     "output_type": "display_data"
    },
    {
     "data": {
      "image/png": "[encoded data removed]",
      "text/plain": [
       "<Figure size 360x144 with 1 Axes>"
      ]
     },
     "metadata": {
      "needs_background": "light"
     },
     "output_type": "display_data"
    },
    {
     "data": {
      "image/png": "[encoded data removed]",
      "text/plain": [
       "<Figure size 360x144 with 1 Axes>"
      ]
     },
     "metadata": {
      "needs_background": "light"
     },
     "output_type": "display_data"
    },
    {
     "data": {
      "image/png": "[encoded data removed]",
      "text/plain": [
       "<Figure size 360x144 with 1 Axes>"
      ]
     },
     "metadata": {
      "needs_background": "light"
     },
     "output_type": "display_data"
    },
    {
     "data": {
      "image/png": "[encoded data removed]",
      "text/plain": [
       "<Figure size 360x144 with 1 Axes>"
      ]
     },
     "metadata": {
      "needs_background": "light"
     },
     "output_type": "display_data"
    },
    {
     "data": {
      "image/png": "[encoded data removed]",
      "text/plain": [
       "<Figure size 360x144 with 1 Axes>"
      ]
     },
     "metadata": {
      "needs_background": "light"
     },
     "output_type": "display_data"
    },
    {
     "data": {
      "image/png": "[encoded data removed]",
      "text/plain": [
       "<Figure size 360x144 with 1 Axes>"
      ]
     },
     "metadata": {
      "needs_background": "light"
     },
     "output_type": "display_data"
    },
    {
     "data": {
      "image/png": "[encoded data removed]",
      "text/plain": [
       "<Figure size 360x144 with 1 Axes>"
      ]
     },
     "metadata": {
      "needs_background": "light"
     },
     "output_type": "display_data"
    },
    {
     "data": {
      "image/png": "[encoded data removed]",
      "text/plain": [
       "<Figure size 360x144 with 1 Axes>"
      ]
     },
     "metadata": {
      "needs_background": "light"
     },
     "output_type": "display_data"
    },
    {
     "data": {
      "image/png": "[encoded data removed]",
      "text/plain": [
       "<Figure size 360x144 with 1 Axes>"
      ]
     },
     "metadata": {
      "needs_background": "light"
     },
     "output_type": "display_data"
    },
    {
     "data": {
      "image/png": "[encoded data removed]",
      "text/plain": [
       "<Figure size 360x144 with 1 Axes>"
      ]
     },
     "metadata": {
      "needs_background": "light"
     },
     "output_type": "display_data"
    }
   ],
   "source": [
    "# Graph histograms of 2019 crime reports, aggregated by neighborhood and month\n",
    "for month in pt_crime_data_19.month_event.unique():\n",
    "    df = pt_crime_data_19[pt_crime_data_19.month_event == month]\n",
    "    fig, axes = plt.subplots(figsize=(5,2))\n",
    "    hist = sns.histplot(data=df, x='count')\n",
    "    plt.show()"
   ]
  },
  {
   "cell_type": "markdown",
   "id": "444f3595-6da5-40af-a9bd-e0705547f147",
   "metadata": {},
   "source": [
    "## 2020"
   ]
  },
  {
   "cell_type": "code",
   "execution_count": 8,
   "id": "0d0bf51f-9daf-4af1-b26a-61bb177d9d87",
   "metadata": {},
   "outputs": [
    {
     "name": "stdout",
     "output_type": "stream",
     "text": [
      "Number of neighborhoods:  1454\n",
      "\n"
     ]
    },
    {
     "data": {
      "text/html": [
       "<div>\n",
       "<style scoped>\n",
       "    .dataframe tbody tr th:only-of-type {\n",
       "        vertical-align: middle;\n",
       "    }\n",
       "\n",
       "    .dataframe tbody tr th {\n",
       "        vertical-align: top;\n",
       "    }\n",
       "\n",
       "    .dataframe thead th {\n",
       "        text-align: right;\n",
       "    }\n",
       "</style>\n",
       "<table border=\"1\" class=\"dataframe\">\n",
       "  <thead>\n",
       "    <tr style=\"text-align: right;\">\n",
       "      <th></th>\n",
       "      <th>date_events</th>\n",
       "      <th>crimeType</th>\n",
       "      <th>crimeTypeViolence</th>\n",
       "      <th>neighborhood_events</th>\n",
       "      <th>longitude</th>\n",
       "      <th>latitude</th>\n",
       "      <th>year_event</th>\n",
       "      <th>month_event</th>\n",
       "      <th>day_event</th>\n",
       "      <th>hour_event</th>\n",
       "    </tr>\n",
       "  </thead>\n",
       "  <tbody>\n",
       "    <tr>\n",
       "      <th>0</th>\n",
       "      <td>2020-01-01 00:50:00</td>\n",
       "      <td>robo a transeunte en via publica</td>\n",
       "      <td>con violencia</td>\n",
       "      <td>cuauhtémoc</td>\n",
       "      <td>-99.164397</td>\n",
       "      <td>19.429331</td>\n",
       "      <td>2020</td>\n",
       "      <td>1</td>\n",
       "      <td>1</td>\n",
       "      <td>0</td>\n",
       "    </tr>\n",
       "    <tr>\n",
       "      <th>1</th>\n",
       "      <td>2020-01-01 01:40:00</td>\n",
       "      <td>robo a transeunte en via publica</td>\n",
       "      <td>con violencia</td>\n",
       "      <td>juan escutia</td>\n",
       "      <td>-99.043910</td>\n",
       "      <td>19.390324</td>\n",
       "      <td>2020</td>\n",
       "      <td>1</td>\n",
       "      <td>1</td>\n",
       "      <td>1</td>\n",
       "    </tr>\n",
       "    <tr>\n",
       "      <th>2</th>\n",
       "      <td>2020-01-01 01:00:00</td>\n",
       "      <td>robo de vehiculo</td>\n",
       "      <td>con violencia</td>\n",
       "      <td>del gas</td>\n",
       "      <td>-99.154355</td>\n",
       "      <td>19.470282</td>\n",
       "      <td>2020</td>\n",
       "      <td>1</td>\n",
       "      <td>1</td>\n",
       "      <td>1</td>\n",
       "    </tr>\n",
       "  </tbody>\n",
       "</table>\n",
       "</div>"
      ],
      "text/plain": [
       "           date_events                         crimeType crimeTypeViolence neighborhood_events  longitude   latitude  year_event  month_event  day_event  hour_event\n",
       "0  2020-01-01 00:50:00  robo a transeunte en via publica     con violencia          cuauhtémoc -99.164397  19.429331        2020            1          1           0\n",
       "1  2020-01-01 01:40:00  robo a transeunte en via publica     con violencia        juan escutia -99.043910  19.390324        2020            1          1           1\n",
       "2  2020-01-01 01:00:00                  robo de vehiculo     con violencia             del gas -99.154355  19.470282        2020            1          1           1"
      ]
     },
     "execution_count": 8,
     "metadata": {},
     "output_type": "execute_result"
    }
   ],
   "source": [
    "# For 2020\n",
    "crime_data_20 = processed_crime_data[processed_crime_data.year_event == 2020].reset_index(drop=True)\n",
    "print(\"Number of neighborhoods: \", len(crime_data_20.neighborhood_events.unique()))\n",
    "print()\n",
    "crime_data_20.head(3)"
   ]
  },
  {
   "cell_type": "code",
   "execution_count": 9,
   "id": "122e6721-bf23-4174-b6a6-89fc26320928",
   "metadata": {},
   "outputs": [
    {
     "name": "stdout",
     "output_type": "stream",
     "text": [
      "Shape of dataframe:  (10211, 3)\n",
      "\n"
     ]
    },
    {
     "data": {
      "text/html": [
       "<div>\n",
       "<style scoped>\n",
       "    .dataframe tbody tr th:only-of-type {\n",
       "        vertical-align: middle;\n",
       "    }\n",
       "\n",
       "    .dataframe tbody tr th {\n",
       "        vertical-align: top;\n",
       "    }\n",
       "\n",
       "    .dataframe thead th {\n",
       "        text-align: right;\n",
       "    }\n",
       "</style>\n",
       "<table border=\"1\" class=\"dataframe\">\n",
       "  <thead>\n",
       "    <tr style=\"text-align: right;\">\n",
       "      <th></th>\n",
       "      <th>month_event</th>\n",
       "      <th>neighborhood_events</th>\n",
       "      <th>count</th>\n",
       "    </tr>\n",
       "  </thead>\n",
       "  <tbody>\n",
       "    <tr>\n",
       "      <th>0</th>\n",
       "      <td>1</td>\n",
       "      <td>15 de agosto</td>\n",
       "      <td>3</td>\n",
       "    </tr>\n",
       "    <tr>\n",
       "      <th>1</th>\n",
       "      <td>1</td>\n",
       "      <td>16 de septiembre</td>\n",
       "      <td>1</td>\n",
       "    </tr>\n",
       "    <tr>\n",
       "      <th>2</th>\n",
       "      <td>1</td>\n",
       "      <td>1a ampliación presidentes</td>\n",
       "      <td>2</td>\n",
       "    </tr>\n",
       "    <tr>\n",
       "      <th>3</th>\n",
       "      <td>1</td>\n",
       "      <td>1a victoria</td>\n",
       "      <td>1</td>\n",
       "    </tr>\n",
       "    <tr>\n",
       "      <th>4</th>\n",
       "      <td>1</td>\n",
       "      <td>1ra. ampliación santiago acahualtepec</td>\n",
       "      <td>2</td>\n",
       "    </tr>\n",
       "  </tbody>\n",
       "</table>\n",
       "</div>"
      ],
      "text/plain": [
       "   month_event                    neighborhood_events  count\n",
       "0            1                           15 de agosto      3\n",
       "1            1                       16 de septiembre      1\n",
       "2            1              1a ampliación presidentes      2\n",
       "3            1                            1a victoria      1\n",
       "4            1  1ra. ampliación santiago acahualtepec      2"
      ]
     },
     "execution_count": 9,
     "metadata": {},
     "output_type": "execute_result"
    }
   ],
   "source": [
    "pt_crime_data_20 = pd.pivot_table(crime_data_20, index=['month_event', 'neighborhood_events'], values='date_events',  columns=['year_event'], \n",
    "                                aggfunc='count').reset_index()\n",
    "pt_crime_data_20.columns=[\"month_event\", \"neighborhood_events\", \"count\"]\n",
    "print(\"Shape of dataframe: \", pt_crime_data_20.shape)\n",
    "print()\n",
    "pt_crime_data_20.head()"
   ]
  },
  {
   "cell_type": "code",
   "execution_count": 10,
   "id": "6675d51c-b7f4-4795-ae21-62889eb3dbfd",
   "metadata": {},
   "outputs": [
    {
     "data": {
      "image/png": "[encoded data removed]",
      "text/plain": [
       "<Figure size 360x144 with 1 Axes>"
      ]
     },
     "metadata": {
      "needs_background": "light"
     },
     "output_type": "display_data"
    },
    {
     "data": {
      "image/png": "[encoded data removed]",
      "text/plain": [
       "<Figure size 360x144 with 1 Axes>"
      ]
     },
     "metadata": {
      "needs_background": "light"
     },
     "output_type": "display_data"
    },
    {
     "data": {
      "image/png": "[encoded data removed]",
      "text/plain": [
       "<Figure size 360x144 with 1 Axes>"
      ]
     },
     "metadata": {
      "needs_background": "light"
     },
     "output_type": "display_data"
    },
    {
     "data": {
      "image/png": "[encoded data removed]",
      "text/plain": [
       "<Figure size 360x144 with 1 Axes>"
      ]
     },
     "metadata": {
      "needs_background": "light"
     },
     "output_type": "display_data"
    },
    {
     "data": {
      "image/png": "[encoded data removed]",
      "text/plain": [
       "<Figure size 360x144 with 1 Axes>"
      ]
     },
     "metadata": {
      "needs_background": "light"
     },
     "output_type": "display_data"
    },
    {
     "data": {
      "image/png": "[encoded data removed]",
      "text/plain": [
       "<Figure size 360x144 with 1 Axes>"
      ]
     },
     "metadata": {
      "needs_background": "light"
     },
     "output_type": "display_data"
    },
    {
     "data": {
      "image/png": "[encoded data removed]",
      "text/plain": [
       "<Figure size 360x144 with 1 Axes>"
      ]
     },
     "metadata": {
      "needs_background": "light"
     },
     "output_type": "display_data"
    },
    {
     "data": {
      "image/png": "[encoded data removed]",
      "text/plain": [
       "<Figure size 360x144 with 1 Axes>"
      ]
     },
     "metadata": {
      "needs_background": "light"
     },
     "output_type": "display_data"
    },
    {
     "data": {
      "image/png": "[encoded data removed]",
      "text/plain": [
       "<Figure size 360x144 with 1 Axes>"
      ]
     },
     "metadata": {
      "needs_background": "light"
     },
     "output_type": "display_data"
    },
    {
     "data": {
      "image/png": "[encoded data removed]",
      "text/plain": [
       "<Figure size 360x144 with 1 Axes>"
      ]
     },
     "metadata": {
      "needs_background": "light"
     },
     "output_type": "display_data"
    },
    {
     "data": {
      "image/png": "[encoded data removed]",
      "text/plain": [
       "<Figure size 360x144 with 1 Axes>"
      ]
     },
     "metadata": {
      "needs_background": "light"
     },
     "output_type": "display_data"
    },
    {
     "data": {
      "image/png": "[encoded data removed]",
      "text/plain": [
       "<Figure size 360x144 with 1 Axes>"
      ]
     },
     "metadata": {
      "needs_background": "light"
     },
     "output_type": "display_data"
    }
   ],
   "source": [
    "# Graph histograms of 2020 crime reports, aggregated by neighborhood and month\n",
    "for month in pt_crime_data_20.month_event.unique():\n",
    "    df = pt_crime_data_20[pt_crime_data_20.month_event == month]\n",
    "    fig, axes = plt.subplots(figsize=(5,2))\n",
    "    hist = sns.histplot(data=df, x='count')\n",
    "    plt.show()"
   ]
  },
  {
   "cell_type": "markdown",
   "id": "37cc8328-3fcb-41ee-a75a-cca03cbb00a0",
   "metadata": {},
   "source": [
    "## 2021"
   ]
  },
  {
   "cell_type": "code",
   "execution_count": 12,
   "id": "d81cdaee-79fb-4cb7-a262-e569fbcf4ae9",
   "metadata": {},
   "outputs": [
    {
     "name": "stdout",
     "output_type": "stream",
     "text": [
      "Number of neighborhoods:  1467\n",
      "\n"
     ]
    },
    {
     "data": {
      "text/html": [
       "<div>\n",
       "<style scoped>\n",
       "    .dataframe tbody tr th:only-of-type {\n",
       "        vertical-align: middle;\n",
       "    }\n",
       "\n",
       "    .dataframe tbody tr th {\n",
       "        vertical-align: top;\n",
       "    }\n",
       "\n",
       "    .dataframe thead th {\n",
       "        text-align: right;\n",
       "    }\n",
       "</style>\n",
       "<table border=\"1\" class=\"dataframe\">\n",
       "  <thead>\n",
       "    <tr style=\"text-align: right;\">\n",
       "      <th></th>\n",
       "      <th>date_events</th>\n",
       "      <th>crimeType</th>\n",
       "      <th>crimeTypeViolence</th>\n",
       "      <th>neighborhood_events</th>\n",
       "      <th>longitude</th>\n",
       "      <th>latitude</th>\n",
       "      <th>year_event</th>\n",
       "      <th>month_event</th>\n",
       "      <th>day_event</th>\n",
       "      <th>hour_event</th>\n",
       "    </tr>\n",
       "  </thead>\n",
       "  <tbody>\n",
       "    <tr>\n",
       "      <th>0</th>\n",
       "      <td>2021-01-01 00:35:00</td>\n",
       "      <td>robo de vehiculo</td>\n",
       "      <td>sin violencia</td>\n",
       "      <td>carlos zapata vela</td>\n",
       "      <td>-99.097667</td>\n",
       "      <td>19.379998</td>\n",
       "      <td>2021</td>\n",
       "      <td>1</td>\n",
       "      <td>1</td>\n",
       "      <td>0</td>\n",
       "    </tr>\n",
       "    <tr>\n",
       "      <th>1</th>\n",
       "      <td>2021-01-01 00:40:00</td>\n",
       "      <td>lesiones dolosas</td>\n",
       "      <td>arma de fuego</td>\n",
       "      <td>morelos</td>\n",
       "      <td>-99.123759</td>\n",
       "      <td>19.448723</td>\n",
       "      <td>2021</td>\n",
       "      <td>1</td>\n",
       "      <td>1</td>\n",
       "      <td>0</td>\n",
       "    </tr>\n",
       "    <tr>\n",
       "      <th>2</th>\n",
       "      <td>2021-01-01 02:50:00</td>\n",
       "      <td>lesiones dolosas</td>\n",
       "      <td>arma de fuego</td>\n",
       "      <td>lomas de padierna</td>\n",
       "      <td>-99.228027</td>\n",
       "      <td>19.297760</td>\n",
       "      <td>2021</td>\n",
       "      <td>1</td>\n",
       "      <td>1</td>\n",
       "      <td>2</td>\n",
       "    </tr>\n",
       "  </tbody>\n",
       "</table>\n",
       "</div>"
      ],
      "text/plain": [
       "           date_events         crimeType crimeTypeViolence neighborhood_events  longitude   latitude  year_event  month_event  day_event  hour_event\n",
       "0  2021-01-01 00:35:00  robo de vehiculo     sin violencia  carlos zapata vela -99.097667  19.379998        2021            1          1           0\n",
       "1  2021-01-01 00:40:00  lesiones dolosas     arma de fuego             morelos -99.123759  19.448723        2021            1          1           0\n",
       "2  2021-01-01 02:50:00  lesiones dolosas     arma de fuego   lomas de padierna -99.228027  19.297760        2021            1          1           2"
      ]
     },
     "execution_count": 12,
     "metadata": {},
     "output_type": "execute_result"
    }
   ],
   "source": [
    "# For 2020\n",
    "crime_data_21 = processed_crime_data[processed_crime_data.year_event == 2021].reset_index(drop=True)\n",
    "print(\"Number of neighborhoods: \", len(crime_data_21.neighborhood_events.unique()))\n",
    "print()\n",
    "crime_data_21.head(3)"
   ]
  },
  {
   "cell_type": "code",
   "execution_count": 13,
   "id": "5d335b6e-c6dc-4894-a053-08864a6cd4e9",
   "metadata": {},
   "outputs": [
    {
     "name": "stdout",
     "output_type": "stream",
     "text": [
      "Shape of dataframe:  (10196, 3)\n",
      "\n"
     ]
    },
    {
     "data": {
      "text/html": [
       "<div>\n",
       "<style scoped>\n",
       "    .dataframe tbody tr th:only-of-type {\n",
       "        vertical-align: middle;\n",
       "    }\n",
       "\n",
       "    .dataframe tbody tr th {\n",
       "        vertical-align: top;\n",
       "    }\n",
       "\n",
       "    .dataframe thead th {\n",
       "        text-align: right;\n",
       "    }\n",
       "</style>\n",
       "<table border=\"1\" class=\"dataframe\">\n",
       "  <thead>\n",
       "    <tr style=\"text-align: right;\">\n",
       "      <th></th>\n",
       "      <th>month_event</th>\n",
       "      <th>neighborhood_events</th>\n",
       "      <th>count</th>\n",
       "    </tr>\n",
       "  </thead>\n",
       "  <tbody>\n",
       "    <tr>\n",
       "      <th>0</th>\n",
       "      <td>1</td>\n",
       "      <td>10 de mayo</td>\n",
       "      <td>1</td>\n",
       "    </tr>\n",
       "    <tr>\n",
       "      <th>1</th>\n",
       "      <td>1</td>\n",
       "      <td>15 de agosto</td>\n",
       "      <td>3</td>\n",
       "    </tr>\n",
       "    <tr>\n",
       "      <th>2</th>\n",
       "      <td>1</td>\n",
       "      <td>16 de septiembre</td>\n",
       "      <td>1</td>\n",
       "    </tr>\n",
       "    <tr>\n",
       "      <th>3</th>\n",
       "      <td>1</td>\n",
       "      <td>1a ampliación presidentes</td>\n",
       "      <td>1</td>\n",
       "    </tr>\n",
       "    <tr>\n",
       "      <th>4</th>\n",
       "      <td>1</td>\n",
       "      <td>1ra. ampliación santiago acahualtepec</td>\n",
       "      <td>1</td>\n",
       "    </tr>\n",
       "  </tbody>\n",
       "</table>\n",
       "</div>"
      ],
      "text/plain": [
       "   month_event                    neighborhood_events  count\n",
       "0            1                             10 de mayo      1\n",
       "1            1                           15 de agosto      3\n",
       "2            1                       16 de septiembre      1\n",
       "3            1              1a ampliación presidentes      1\n",
       "4            1  1ra. ampliación santiago acahualtepec      1"
      ]
     },
     "execution_count": 13,
     "metadata": {},
     "output_type": "execute_result"
    }
   ],
   "source": [
    "pt_crime_data_21 = pd.pivot_table(crime_data_21, index=['month_event', 'neighborhood_events'], values='date_events',  columns=['year_event'], \n",
    "                                aggfunc='count').reset_index()\n",
    "pt_crime_data_21.columns=[\"month_event\", \"neighborhood_events\", \"count\"]\n",
    "print(\"Shape of dataframe: \", pt_crime_data_21.shape)\n",
    "print()\n",
    "pt_crime_data_21.head()"
   ]
  },
  {
   "cell_type": "code",
   "execution_count": 14,
   "id": "1aa2ef29-dac9-45d3-9bdd-9f0474ae4e5b",
   "metadata": {},
   "outputs": [
    {
     "data": {
      "image/png": "[encoded data removed]",
      "text/plain": [
       "<Figure size 360x144 with 1 Axes>"
      ]
     },
     "metadata": {
      "needs_background": "light"
     },
     "output_type": "display_data"
    },
    {
     "data": {
      "image/png": "[encoded data removed]",
      "text/plain": [
       "<Figure size 360x144 with 1 Axes>"
      ]
     },
     "metadata": {
      "needs_background": "light"
     },
     "output_type": "display_data"
    },
    {
     "data": {
      "image/png": "[encoded data removed]",
      "text/plain": [
       "<Figure size 360x144 with 1 Axes>"
      ]
     },
     "metadata": {
      "needs_background": "light"
     },
     "output_type": "display_data"
    },
    {
     "data": {
      "image/png": "[encoded data removed]",
      "text/plain": [
       "<Figure size 360x144 with 1 Axes>"
      ]
     },
     "metadata": {
      "needs_background": "light"
     },
     "output_type": "display_data"
    },
    {
     "data": {
      "image/png": "[encoded data removed]",
      "text/plain": [
       "<Figure size 360x144 with 1 Axes>"
      ]
     },
     "metadata": {
      "needs_background": "light"
     },
     "output_type": "display_data"
    },
    {
     "data": {
      "image/png": "[encoded data removed]",
      "text/plain": [
       "<Figure size 360x144 with 1 Axes>"
      ]
     },
     "metadata": {
      "needs_background": "light"
     },
     "output_type": "display_data"
    },
    {
     "data": {
      "image/png": "[encoded data removed]",
      "text/plain": [
       "<Figure size 360x144 with 1 Axes>"
      ]
     },
     "metadata": {
      "needs_background": "light"
     },
     "output_type": "display_data"
    },
    {
     "data": {
      "image/png": "[encoded data removed]",
      "text/plain": [
       "<Figure size 360x144 with 1 Axes>"
      ]
     },
     "metadata": {
      "needs_background": "light"
     },
     "output_type": "display_data"
    },
    {
     "data": {
      "image/png": "[encoded data removed]",
      "text/plain": [
       "<Figure size 360x144 with 1 Axes>"
      ]
     },
     "metadata": {
      "needs_background": "light"
     },
     "output_type": "display_data"
    },
    {
     "data": {
      "image/png": "[encoded data removed]",
      "text/plain": [
       "<Figure size 360x144 with 1 Axes>"
      ]
     },
     "metadata": {
      "needs_background": "light"
     },
     "output_type": "display_data"
    },
    {
     "data": {
      "image/png": "[encoded data removed]",
      "text/plain": [
       "<Figure size 360x144 with 1 Axes>"
      ]
     },
     "metadata": {
      "needs_background": "light"
     },
     "output_type": "display_data"
    },
    {
     "data": {
      "image/png": "[encoded data removed]",
      "text/plain": [
       "<Figure size 360x144 with 1 Axes>"
      ]
     },
     "metadata": {
      "needs_background": "light"
     },
     "output_type": "display_data"
    }
   ],
   "source": [
    "# Graph histograms of 2021 crime reports, aggregated by neighborhood and month\n",
    "for month in pt_crime_data_21.month_event.unique():\n",
    "    df = pt_crime_data_21[pt_crime_data_21.month_event == month]\n",
    "    fig, axes = plt.subplots(figsize=(5,2))\n",
    "    hist = sns.histplot(data=df, x='count')\n",
    "    plt.show()"
   ]
  },
  {
   "cell_type": "markdown",
   "id": "f28e420a-0dba-445e-9c8e-73f21650c9dc",
   "metadata": {},
   "source": [
    "# Exploratory analysis of victims data"
   ]
  },
  {
   "cell_type": "code",
   "execution_count": 15,
   "id": "74823327-c0e9-4379-8677-8f22125b1616",
   "metadata": {},
   "outputs": [
    {
     "data": {
      "text/html": [
       "<div>\n",
       "<style scoped>\n",
       "    .dataframe tbody tr th:only-of-type {\n",
       "        vertical-align: middle;\n",
       "    }\n",
       "\n",
       "    .dataframe tbody tr th {\n",
       "        vertical-align: top;\n",
       "    }\n",
       "\n",
       "    .dataframe thead th {\n",
       "        text-align: right;\n",
       "    }\n",
       "</style>\n",
       "<table border=\"1\" class=\"dataframe\">\n",
       "  <thead>\n",
       "    <tr style=\"text-align: right;\">\n",
       "      <th></th>\n",
       "      <th>date_events</th>\n",
       "      <th>sex</th>\n",
       "      <th>age</th>\n",
       "      <th>crimeType</th>\n",
       "      <th>crimeTypeViolence</th>\n",
       "      <th>neighborhood_events</th>\n",
       "      <th>longitude</th>\n",
       "      <th>latitude</th>\n",
       "      <th>year_event</th>\n",
       "      <th>month_event</th>\n",
       "      <th>day_event</th>\n",
       "      <th>hour_event</th>\n",
       "    </tr>\n",
       "  </thead>\n",
       "  <tbody>\n",
       "    <tr>\n",
       "      <th>0</th>\n",
       "      <td>2019-04-01</td>\n",
       "      <td>masculino</td>\n",
       "      <td>35.0</td>\n",
       "      <td>robo de vehiculo</td>\n",
       "      <td>sin violencia</td>\n",
       "      <td>agrícola pantitlan</td>\n",
       "      <td>-99.05983</td>\n",
       "      <td>19.40327</td>\n",
       "      <td>2019</td>\n",
       "      <td>4</td>\n",
       "      <td>1</td>\n",
       "      <td>0</td>\n",
       "    </tr>\n",
       "    <tr>\n",
       "      <th>1</th>\n",
       "      <td>2019-03-01</td>\n",
       "      <td>masculino</td>\n",
       "      <td>NaN</td>\n",
       "      <td>robo de vehiculo</td>\n",
       "      <td>sin violencia</td>\n",
       "      <td>progresista</td>\n",
       "      <td>-99.06324</td>\n",
       "      <td>19.35480</td>\n",
       "      <td>2019</td>\n",
       "      <td>3</td>\n",
       "      <td>1</td>\n",
       "      <td>0</td>\n",
       "    </tr>\n",
       "    <tr>\n",
       "      <th>2</th>\n",
       "      <td>2019-04-01</td>\n",
       "      <td>femenino</td>\n",
       "      <td>55.0</td>\n",
       "      <td>robo a transeunte en via publica</td>\n",
       "      <td>sin violencia</td>\n",
       "      <td>tolteca</td>\n",
       "      <td>-99.19472</td>\n",
       "      <td>19.39000</td>\n",
       "      <td>2019</td>\n",
       "      <td>4</td>\n",
       "      <td>1</td>\n",
       "      <td>0</td>\n",
       "    </tr>\n",
       "    <tr>\n",
       "      <th>3</th>\n",
       "      <td>2019-04-01</td>\n",
       "      <td>masculino</td>\n",
       "      <td>44.0</td>\n",
       "      <td>robo a pasajero a bordo de transporte publico ...</td>\n",
       "      <td>con violencia</td>\n",
       "      <td>iztlahuacán</td>\n",
       "      <td>-99.00053</td>\n",
       "      <td>19.33477</td>\n",
       "      <td>2019</td>\n",
       "      <td>4</td>\n",
       "      <td>1</td>\n",
       "      <td>0</td>\n",
       "    </tr>\n",
       "    <tr>\n",
       "      <th>4</th>\n",
       "      <td>2019-03-01</td>\n",
       "      <td>masculino</td>\n",
       "      <td>30.0</td>\n",
       "      <td>robo a transeunte en via publica</td>\n",
       "      <td>con violencia</td>\n",
       "      <td>popotla</td>\n",
       "      <td>-99.17955</td>\n",
       "      <td>19.45796</td>\n",
       "      <td>2019</td>\n",
       "      <td>3</td>\n",
       "      <td>1</td>\n",
       "      <td>0</td>\n",
       "    </tr>\n",
       "  </tbody>\n",
       "</table>\n",
       "</div>"
      ],
      "text/plain": [
       "  date_events        sex   age                                          crimeType crimeTypeViolence neighborhood_events  longitude  latitude  year_event  month_event  day_event  hour_event\n",
       "0  2019-04-01  masculino  35.0                                   robo de vehiculo     sin violencia  agrícola pantitlan  -99.05983  19.40327        2019            4          1           0\n",
       "1  2019-03-01  masculino   NaN                                   robo de vehiculo     sin violencia         progresista  -99.06324  19.35480        2019            3          1           0\n",
       "2  2019-04-01   femenino  55.0                   robo a transeunte en via publica     sin violencia             tolteca  -99.19472  19.39000        2019            4          1           0\n",
       "3  2019-04-01  masculino  44.0  robo a pasajero a bordo de transporte publico ...     con violencia         iztlahuacán  -99.00053  19.33477        2019            4          1           0\n",
       "4  2019-03-01  masculino  30.0                   robo a transeunte en via publica     con violencia             popotla  -99.17955  19.45796        2019            3          1           0"
      ]
     },
     "execution_count": 15,
     "metadata": {},
     "output_type": "execute_result"
    }
   ],
   "source": [
    "processed_victims_data = pd.read_csv(r'D:\\Google Drive\\University of York courses\\Independent Research Proposal\\dissertation\\data\\preprocessed\\preprocessed_victims_data.csv')\n",
    "processed_victims_data.head()"
   ]
  },
  {
   "cell_type": "markdown",
   "id": "175f5b6d-330b-406c-9b09-4ba9ebd1eac9",
   "metadata": {},
   "source": [
    "## 2019"
   ]
  },
  {
   "cell_type": "code",
   "execution_count": 16,
   "id": "ca138a4e-4caf-44db-bc28-a7fabb180222",
   "metadata": {},
   "outputs": [
    {
     "name": "stdout",
     "output_type": "stream",
     "text": [
      "Number of neighborhoods:  1477\n",
      "\n"
     ]
    },
    {
     "data": {
      "text/html": [
       "<div>\n",
       "<style scoped>\n",
       "    .dataframe tbody tr th:only-of-type {\n",
       "        vertical-align: middle;\n",
       "    }\n",
       "\n",
       "    .dataframe tbody tr th {\n",
       "        vertical-align: top;\n",
       "    }\n",
       "\n",
       "    .dataframe thead th {\n",
       "        text-align: right;\n",
       "    }\n",
       "</style>\n",
       "<table border=\"1\" class=\"dataframe\">\n",
       "  <thead>\n",
       "    <tr style=\"text-align: right;\">\n",
       "      <th></th>\n",
       "      <th>date_events</th>\n",
       "      <th>sex</th>\n",
       "      <th>age</th>\n",
       "      <th>crimeType</th>\n",
       "      <th>crimeTypeViolence</th>\n",
       "      <th>neighborhood_events</th>\n",
       "      <th>longitude</th>\n",
       "      <th>latitude</th>\n",
       "      <th>year_event</th>\n",
       "      <th>month_event</th>\n",
       "      <th>day_event</th>\n",
       "      <th>hour_event</th>\n",
       "    </tr>\n",
       "  </thead>\n",
       "  <tbody>\n",
       "    <tr>\n",
       "      <th>0</th>\n",
       "      <td>2019-04-01</td>\n",
       "      <td>masculino</td>\n",
       "      <td>35.0</td>\n",
       "      <td>robo de vehiculo</td>\n",
       "      <td>sin violencia</td>\n",
       "      <td>agrícola pantitlan</td>\n",
       "      <td>-99.05983</td>\n",
       "      <td>19.40327</td>\n",
       "      <td>2019</td>\n",
       "      <td>4</td>\n",
       "      <td>1</td>\n",
       "      <td>0</td>\n",
       "    </tr>\n",
       "    <tr>\n",
       "      <th>1</th>\n",
       "      <td>2019-03-01</td>\n",
       "      <td>masculino</td>\n",
       "      <td>NaN</td>\n",
       "      <td>robo de vehiculo</td>\n",
       "      <td>sin violencia</td>\n",
       "      <td>progresista</td>\n",
       "      <td>-99.06324</td>\n",
       "      <td>19.35480</td>\n",
       "      <td>2019</td>\n",
       "      <td>3</td>\n",
       "      <td>1</td>\n",
       "      <td>0</td>\n",
       "    </tr>\n",
       "    <tr>\n",
       "      <th>2</th>\n",
       "      <td>2019-04-01</td>\n",
       "      <td>femenino</td>\n",
       "      <td>55.0</td>\n",
       "      <td>robo a transeunte en via publica</td>\n",
       "      <td>sin violencia</td>\n",
       "      <td>tolteca</td>\n",
       "      <td>-99.19472</td>\n",
       "      <td>19.39000</td>\n",
       "      <td>2019</td>\n",
       "      <td>4</td>\n",
       "      <td>1</td>\n",
       "      <td>0</td>\n",
       "    </tr>\n",
       "  </tbody>\n",
       "</table>\n",
       "</div>"
      ],
      "text/plain": [
       "  date_events        sex   age                         crimeType crimeTypeViolence neighborhood_events  longitude  latitude  year_event  month_event  day_event  hour_event\n",
       "0  2019-04-01  masculino  35.0                  robo de vehiculo     sin violencia  agrícola pantitlan  -99.05983  19.40327        2019            4          1           0\n",
       "1  2019-03-01  masculino   NaN                  robo de vehiculo     sin violencia         progresista  -99.06324  19.35480        2019            3          1           0\n",
       "2  2019-04-01   femenino  55.0  robo a transeunte en via publica     sin violencia             tolteca  -99.19472  19.39000        2019            4          1           0"
      ]
     },
     "execution_count": 16,
     "metadata": {},
     "output_type": "execute_result"
    }
   ],
   "source": [
    "# For 2019\n",
    "victims_data_19 = processed_victims_data[processed_victims_data.year_event == 2019].reset_index(drop=True)\n",
    "print(\"Number of neighborhoods: \", len(victims_data_19.neighborhood_events.unique()))\n",
    "print()\n",
    "victims_data_19.head(3)"
   ]
  },
  {
   "cell_type": "code",
   "execution_count": 17,
   "id": "838ee945-baf4-43a9-a2f9-c23cfe7c84ba",
   "metadata": {},
   "outputs": [
    {
     "name": "stdout",
     "output_type": "stream",
     "text": [
      "Shape of dataframe:  (11122, 3)\n",
      "\n"
     ]
    },
    {
     "data": {
      "text/html": [
       "<div>\n",
       "<style scoped>\n",
       "    .dataframe tbody tr th:only-of-type {\n",
       "        vertical-align: middle;\n",
       "    }\n",
       "\n",
       "    .dataframe tbody tr th {\n",
       "        vertical-align: top;\n",
       "    }\n",
       "\n",
       "    .dataframe thead th {\n",
       "        text-align: right;\n",
       "    }\n",
       "</style>\n",
       "<table border=\"1\" class=\"dataframe\">\n",
       "  <thead>\n",
       "    <tr style=\"text-align: right;\">\n",
       "      <th></th>\n",
       "      <th>month_event</th>\n",
       "      <th>neighborhood_events</th>\n",
       "      <th>count</th>\n",
       "    </tr>\n",
       "  </thead>\n",
       "  <tbody>\n",
       "    <tr>\n",
       "      <th>0</th>\n",
       "      <td>1</td>\n",
       "      <td>10 de abril</td>\n",
       "      <td>1</td>\n",
       "    </tr>\n",
       "    <tr>\n",
       "      <th>1</th>\n",
       "      <td>1</td>\n",
       "      <td>10 de mayo</td>\n",
       "      <td>1</td>\n",
       "    </tr>\n",
       "    <tr>\n",
       "      <th>2</th>\n",
       "      <td>1</td>\n",
       "      <td>12 de diciembre</td>\n",
       "      <td>1</td>\n",
       "    </tr>\n",
       "    <tr>\n",
       "      <th>3</th>\n",
       "      <td>1</td>\n",
       "      <td>15 de agosto</td>\n",
       "      <td>1</td>\n",
       "    </tr>\n",
       "    <tr>\n",
       "      <th>4</th>\n",
       "      <td>1</td>\n",
       "      <td>16 de septiembre</td>\n",
       "      <td>2</td>\n",
       "    </tr>\n",
       "  </tbody>\n",
       "</table>\n",
       "</div>"
      ],
      "text/plain": [
       "   month_event neighborhood_events  count\n",
       "0            1         10 de abril      1\n",
       "1            1          10 de mayo      1\n",
       "2            1     12 de diciembre      1\n",
       "3            1        15 de agosto      1\n",
       "4            1    16 de septiembre      2"
      ]
     },
     "execution_count": 17,
     "metadata": {},
     "output_type": "execute_result"
    }
   ],
   "source": [
    "pt_victims_data_19 = pd.pivot_table(victims_data_19, index=['month_event', 'neighborhood_events'], values='date_events',  columns=['year_event'], \n",
    "                                aggfunc='count').reset_index()\n",
    "pt_victims_data_19.columns=[\"month_event\", \"neighborhood_events\", \"count\"]\n",
    "print(\"Shape of dataframe: \", pt_victims_data_19.shape)\n",
    "print()\n",
    "pt_victims_data_19.head()"
   ]
  },
  {
   "cell_type": "code",
   "execution_count": 18,
   "id": "0fc62a73-eca6-4604-a426-d3ddd0cee408",
   "metadata": {},
   "outputs": [
    {
     "data": {
      "image/png": "[encoded data removed]",
      "text/plain": [
       "<Figure size 360x144 with 1 Axes>"
      ]
     },
     "metadata": {
      "needs_background": "light"
     },
     "output_type": "display_data"
    },
    {
     "data": {
      "image/png": "[encoded data removed]",
      "text/plain": [
       "<Figure size 360x144 with 1 Axes>"
      ]
     },
     "metadata": {
      "needs_background": "light"
     },
     "output_type": "display_data"
    },
    {
     "data": {
      "image/png": "[encoded data removed]",
      "text/plain": [
       "<Figure size 360x144 with 1 Axes>"
      ]
     },
     "metadata": {
      "needs_background": "light"
     },
     "output_type": "display_data"
    },
    {
     "data": {
      "image/png": "[encoded data removed]",
      "text/plain": [
       "<Figure size 360x144 with 1 Axes>"
      ]
     },
     "metadata": {
      "needs_background": "light"
     },
     "output_type": "display_data"
    },
    {
     "data": {
      "image/png": "[encoded data removed]",
      "text/plain": [
       "<Figure size 360x144 with 1 Axes>"
      ]
     },
     "metadata": {
      "needs_background": "light"
     },
     "output_type": "display_data"
    },
    {
     "data": {
      "image/png": "[encoded data removed]",
      "text/plain": [
       "<Figure size 360x144 with 1 Axes>"
      ]
     },
     "metadata": {
      "needs_background": "light"
     },
     "output_type": "display_data"
    },
    {
     "data": {
      "image/png": "[encoded data removed]",
      "text/plain": [
       "<Figure size 360x144 with 1 Axes>"
      ]
     },
     "metadata": {
      "needs_background": "light"
     },
     "output_type": "display_data"
    },
    {
     "data": {
      "image/png": "[encoded data removed]",
      "text/plain": [
       "<Figure size 360x144 with 1 Axes>"
      ]
     },
     "metadata": {
      "needs_background": "light"
     },
     "output_type": "display_data"
    },
    {
     "data": {
      "image/png": "[encoded data removed]",
      "text/plain": [
       "<Figure size 360x144 with 1 Axes>"
      ]
     },
     "metadata": {
      "needs_background": "light"
     },
     "output_type": "display_data"
    },
    {
     "data": {
      "image/png": "[encoded data removed]",
      "text/plain": [
       "<Figure size 360x144 with 1 Axes>"
      ]
     },
     "metadata": {
      "needs_background": "light"
     },
     "output_type": "display_data"
    },
    {
     "data": {
      "image/png": "[encoded data removed]",
      "text/plain": [
       "<Figure size 360x144 with 1 Axes>"
      ]
     },
     "metadata": {
      "needs_background": "light"
     },
     "output_type": "display_data"
    },
    {
     "data": {
      "image/png": "[encoded data removed]",
      "text/plain": [
       "<Figure size 360x144 with 1 Axes>"
      ]
     },
     "metadata": {
      "needs_background": "light"
     },
     "output_type": "display_data"
    }
   ],
   "source": [
    "# Graph histograms of 2019 crime reports, aggregated by neighborhood and month\n",
    "for month in pt_victims_data_19.month_event.unique():\n",
    "    df = pt_victims_data_19[pt_victims_data_19.month_event == month]\n",
    "    fig, axes = plt.subplots(figsize=(5,2))\n",
    "    hist = sns.histplot(data=df, x='count')\n",
    "    plt.show()"
   ]
  },
  {
   "cell_type": "markdown",
   "id": "ac516215-14bb-4cba-ae6b-149d342fa4db",
   "metadata": {},
   "source": [
    "## 2020"
   ]
  },
  {
   "cell_type": "code",
   "execution_count": 19,
   "id": "13cc440b-e43c-4f67-8b41-b78dc6ffad7e",
   "metadata": {},
   "outputs": [
    {
     "name": "stdout",
     "output_type": "stream",
     "text": [
      "Number of neighborhoods:  1454\n",
      "\n"
     ]
    },
    {
     "data": {
      "text/html": [
       "<div>\n",
       "<style scoped>\n",
       "    .dataframe tbody tr th:only-of-type {\n",
       "        vertical-align: middle;\n",
       "    }\n",
       "\n",
       "    .dataframe tbody tr th {\n",
       "        vertical-align: top;\n",
       "    }\n",
       "\n",
       "    .dataframe thead th {\n",
       "        text-align: right;\n",
       "    }\n",
       "</style>\n",
       "<table border=\"1\" class=\"dataframe\">\n",
       "  <thead>\n",
       "    <tr style=\"text-align: right;\">\n",
       "      <th></th>\n",
       "      <th>date_events</th>\n",
       "      <th>sex</th>\n",
       "      <th>age</th>\n",
       "      <th>crimeType</th>\n",
       "      <th>crimeTypeViolence</th>\n",
       "      <th>neighborhood_events</th>\n",
       "      <th>longitude</th>\n",
       "      <th>latitude</th>\n",
       "      <th>year_event</th>\n",
       "      <th>month_event</th>\n",
       "      <th>day_event</th>\n",
       "      <th>hour_event</th>\n",
       "    </tr>\n",
       "  </thead>\n",
       "  <tbody>\n",
       "    <tr>\n",
       "      <th>0</th>\n",
       "      <td>2020-01-01</td>\n",
       "      <td>femenino</td>\n",
       "      <td>52.0</td>\n",
       "      <td>robo a transeunte en via publica</td>\n",
       "      <td>con violencia</td>\n",
       "      <td>cuauhtémoc</td>\n",
       "      <td>-99.164397</td>\n",
       "      <td>19.429331</td>\n",
       "      <td>2020</td>\n",
       "      <td>1</td>\n",
       "      <td>1</td>\n",
       "      <td>0</td>\n",
       "    </tr>\n",
       "    <tr>\n",
       "      <th>1</th>\n",
       "      <td>2020-01-01</td>\n",
       "      <td>femenino</td>\n",
       "      <td>44.0</td>\n",
       "      <td>robo a transeunte en via publica</td>\n",
       "      <td>con violencia</td>\n",
       "      <td>juan escutia</td>\n",
       "      <td>-99.043910</td>\n",
       "      <td>19.390324</td>\n",
       "      <td>2020</td>\n",
       "      <td>1</td>\n",
       "      <td>1</td>\n",
       "      <td>0</td>\n",
       "    </tr>\n",
       "    <tr>\n",
       "      <th>2</th>\n",
       "      <td>2020-01-01</td>\n",
       "      <td>masculino</td>\n",
       "      <td>23.0</td>\n",
       "      <td>robo a transeunte en via publica</td>\n",
       "      <td>con violencia</td>\n",
       "      <td>juan escutia</td>\n",
       "      <td>-99.043910</td>\n",
       "      <td>19.390324</td>\n",
       "      <td>2020</td>\n",
       "      <td>1</td>\n",
       "      <td>1</td>\n",
       "      <td>0</td>\n",
       "    </tr>\n",
       "  </tbody>\n",
       "</table>\n",
       "</div>"
      ],
      "text/plain": [
       "  date_events        sex   age                         crimeType crimeTypeViolence neighborhood_events  longitude   latitude  year_event  month_event  day_event  hour_event\n",
       "0  2020-01-01   femenino  52.0  robo a transeunte en via publica     con violencia          cuauhtémoc -99.164397  19.429331        2020            1          1           0\n",
       "1  2020-01-01   femenino  44.0  robo a transeunte en via publica     con violencia        juan escutia -99.043910  19.390324        2020            1          1           0\n",
       "2  2020-01-01  masculino  23.0  robo a transeunte en via publica     con violencia        juan escutia -99.043910  19.390324        2020            1          1           0"
      ]
     },
     "execution_count": 19,
     "metadata": {},
     "output_type": "execute_result"
    }
   ],
   "source": [
    "# For 2020\n",
    "crime_victims_20 = processed_victims_data[processed_victims_data.year_event == 2020].reset_index(drop=True)\n",
    "print(\"Number of neighborhoods: \", len(crime_victims_20.neighborhood_events.unique()))\n",
    "print()\n",
    "crime_victims_20.head(3)"
   ]
  },
  {
   "cell_type": "code",
   "execution_count": 20,
   "id": "051abcc1-a999-48a2-bb2c-41f7a8e0c034",
   "metadata": {},
   "outputs": [
    {
     "name": "stdout",
     "output_type": "stream",
     "text": [
      "Shape of dataframe:  (10273, 3)\n",
      "\n"
     ]
    },
    {
     "data": {
      "text/html": [
       "<div>\n",
       "<style scoped>\n",
       "    .dataframe tbody tr th:only-of-type {\n",
       "        vertical-align: middle;\n",
       "    }\n",
       "\n",
       "    .dataframe tbody tr th {\n",
       "        vertical-align: top;\n",
       "    }\n",
       "\n",
       "    .dataframe thead th {\n",
       "        text-align: right;\n",
       "    }\n",
       "</style>\n",
       "<table border=\"1\" class=\"dataframe\">\n",
       "  <thead>\n",
       "    <tr style=\"text-align: right;\">\n",
       "      <th></th>\n",
       "      <th>month_event</th>\n",
       "      <th>neighborhood_events</th>\n",
       "      <th>count</th>\n",
       "    </tr>\n",
       "  </thead>\n",
       "  <tbody>\n",
       "    <tr>\n",
       "      <th>0</th>\n",
       "      <td>1</td>\n",
       "      <td>10 de mayo</td>\n",
       "      <td>1</td>\n",
       "    </tr>\n",
       "    <tr>\n",
       "      <th>1</th>\n",
       "      <td>1</td>\n",
       "      <td>15 de agosto</td>\n",
       "      <td>1</td>\n",
       "    </tr>\n",
       "    <tr>\n",
       "      <th>2</th>\n",
       "      <td>1</td>\n",
       "      <td>1a ampliación presidentes</td>\n",
       "      <td>4</td>\n",
       "    </tr>\n",
       "    <tr>\n",
       "      <th>3</th>\n",
       "      <td>1</td>\n",
       "      <td>1a victoria</td>\n",
       "      <td>2</td>\n",
       "    </tr>\n",
       "    <tr>\n",
       "      <th>4</th>\n",
       "      <td>1</td>\n",
       "      <td>1ra. ampliación santiago acahualtepec</td>\n",
       "      <td>2</td>\n",
       "    </tr>\n",
       "  </tbody>\n",
       "</table>\n",
       "</div>"
      ],
      "text/plain": [
       "   month_event                    neighborhood_events  count\n",
       "0            1                             10 de mayo      1\n",
       "1            1                           15 de agosto      1\n",
       "2            1              1a ampliación presidentes      4\n",
       "3            1                            1a victoria      2\n",
       "4            1  1ra. ampliación santiago acahualtepec      2"
      ]
     },
     "execution_count": 20,
     "metadata": {},
     "output_type": "execute_result"
    }
   ],
   "source": [
    "pt_crime_victims_20 = pd.pivot_table(crime_victims_20, index=['month_event', 'neighborhood_events'], values='date_events',  columns=['year_event'], \n",
    "                                aggfunc='count').reset_index()\n",
    "pt_crime_victims_20.columns=[\"month_event\", \"neighborhood_events\", \"count\"]\n",
    "print(\"Shape of dataframe: \", pt_crime_victims_20.shape)\n",
    "print()\n",
    "pt_crime_victims_20.head()"
   ]
  },
  {
   "cell_type": "code",
   "execution_count": 21,
   "id": "bcede5ff-0cd9-4247-a76f-22ce57bdf8c1",
   "metadata": {},
   "outputs": [
    {
     "data": {
      "image/png": "[encoded data removed]",
      "text/plain": [
       "<Figure size 360x144 with 1 Axes>"
      ]
     },
     "metadata": {
      "needs_background": "light"
     },
     "output_type": "display_data"
    },
    {
     "data": {
      "image/png": "[encoded data removed]",
      "text/plain": [
       "<Figure size 360x144 with 1 Axes>"
      ]
     },
     "metadata": {
      "needs_background": "light"
     },
     "output_type": "display_data"
    },
    {
     "data": {
      "image/png": "[encoded data removed]",
      "text/plain": [
       "<Figure size 360x144 with 1 Axes>"
      ]
     },
     "metadata": {
      "needs_background": "light"
     },
     "output_type": "display_data"
    },
    {
     "data": {
      "image/png": "[encoded data removed]",
      "text/plain": [
       "<Figure size 360x144 with 1 Axes>"
      ]
     },
     "metadata": {
      "needs_background": "light"
     },
     "output_type": "display_data"
    },
    {
     "data": {
      "image/png": "[encoded data removed]",
      "text/plain": [
       "<Figure size 360x144 with 1 Axes>"
      ]
     },
     "metadata": {
      "needs_background": "light"
     },
     "output_type": "display_data"
    },
    {
     "data": {
      "image/png": "[encoded data removed]",
      "text/plain": [
       "<Figure size 360x144 with 1 Axes>"
      ]
     },
     "metadata": {
      "needs_background": "light"
     },
     "output_type": "display_data"
    },
    {
     "data": {
      "image/png": "[encoded data removed]",
      "text/plain": [
       "<Figure size 360x144 with 1 Axes>"
      ]
     },
     "metadata": {
      "needs_background": "light"
     },
     "output_type": "display_data"
    },
    {
     "data": {
      "image/png": "[encoded data removed]",
      "text/plain": [
       "<Figure size 360x144 with 1 Axes>"
      ]
     },
     "metadata": {
      "needs_background": "light"
     },
     "output_type": "display_data"
    },
    {
     "data": {
      "image/png": "[encoded data removed]",
      "text/plain": [
       "<Figure size 360x144 with 1 Axes>"
      ]
     },
     "metadata": {
      "needs_background": "light"
     },
     "output_type": "display_data"
    },
    {
     "data": {
      "image/png": "[encoded data removed]",
      "text/plain": [
       "<Figure size 360x144 with 1 Axes>"
      ]
     },
     "metadata": {
      "needs_background": "light"
     },
     "output_type": "display_data"
    },
    {
     "data": {
      "image/png": "[encoded data removed]",
      "text/plain": [
       "<Figure size 360x144 with 1 Axes>"
      ]
     },
     "metadata": {
      "needs_background": "light"
     },
     "output_type": "display_data"
    },
    {
     "data": {
      "image/png": "[encoded data removed]",
      "text/plain": [
       "<Figure size 360x144 with 1 Axes>"
      ]
     },
     "metadata": {
      "needs_background": "light"
     },
     "output_type": "display_data"
    }
   ],
   "source": [
    "# Graph histograms of 2020 crime reports, aggregated by neighborhood and month\n",
    "for month in pt_crime_victims_20.month_event.unique():\n",
    "    df = pt_crime_victims_20[pt_crime_victims_20.month_event == month]\n",
    "    fig, axes = plt.subplots(figsize=(5,2))\n",
    "    hist = sns.histplot(data=df, x='count')\n",
    "    plt.show()"
   ]
  },
  {
   "cell_type": "markdown",
   "id": "a27dd450-8669-40c7-9381-0e2f656d9ac3",
   "metadata": {},
   "source": [
    "## 2021"
   ]
  },
  {
   "cell_type": "code",
   "execution_count": 22,
   "id": "1d1f048d-fde3-4266-8f90-dd6d6e8bc09c",
   "metadata": {},
   "outputs": [
    {
     "name": "stdout",
     "output_type": "stream",
     "text": [
      "Number of neighborhoods:  1467\n",
      "\n"
     ]
    },
    {
     "data": {
      "text/html": [
       "<div>\n",
       "<style scoped>\n",
       "    .dataframe tbody tr th:only-of-type {\n",
       "        vertical-align: middle;\n",
       "    }\n",
       "\n",
       "    .dataframe tbody tr th {\n",
       "        vertical-align: top;\n",
       "    }\n",
       "\n",
       "    .dataframe thead th {\n",
       "        text-align: right;\n",
       "    }\n",
       "</style>\n",
       "<table border=\"1\" class=\"dataframe\">\n",
       "  <thead>\n",
       "    <tr style=\"text-align: right;\">\n",
       "      <th></th>\n",
       "      <th>date_events</th>\n",
       "      <th>sex</th>\n",
       "      <th>age</th>\n",
       "      <th>crimeType</th>\n",
       "      <th>crimeTypeViolence</th>\n",
       "      <th>neighborhood_events</th>\n",
       "      <th>longitude</th>\n",
       "      <th>latitude</th>\n",
       "      <th>year_event</th>\n",
       "      <th>month_event</th>\n",
       "      <th>day_event</th>\n",
       "      <th>hour_event</th>\n",
       "    </tr>\n",
       "  </thead>\n",
       "  <tbody>\n",
       "    <tr>\n",
       "      <th>0</th>\n",
       "      <td>2021-01-01</td>\n",
       "      <td>masculino</td>\n",
       "      <td>26.0</td>\n",
       "      <td>robo de vehiculo</td>\n",
       "      <td>sin violencia</td>\n",
       "      <td>carlos zapata vela</td>\n",
       "      <td>-99.097667</td>\n",
       "      <td>19.379998</td>\n",
       "      <td>2021</td>\n",
       "      <td>1</td>\n",
       "      <td>1</td>\n",
       "      <td>0</td>\n",
       "    </tr>\n",
       "    <tr>\n",
       "      <th>1</th>\n",
       "      <td>2021-01-01</td>\n",
       "      <td>masculino</td>\n",
       "      <td>20.0</td>\n",
       "      <td>lesiones dolosas</td>\n",
       "      <td>arma de fuego</td>\n",
       "      <td>morelos</td>\n",
       "      <td>-99.123759</td>\n",
       "      <td>19.448723</td>\n",
       "      <td>2021</td>\n",
       "      <td>1</td>\n",
       "      <td>1</td>\n",
       "      <td>0</td>\n",
       "    </tr>\n",
       "    <tr>\n",
       "      <th>2</th>\n",
       "      <td>2021-01-01</td>\n",
       "      <td>masculino</td>\n",
       "      <td>31.0</td>\n",
       "      <td>lesiones dolosas</td>\n",
       "      <td>arma de fuego</td>\n",
       "      <td>lomas de padierna</td>\n",
       "      <td>-99.228027</td>\n",
       "      <td>19.297760</td>\n",
       "      <td>2021</td>\n",
       "      <td>1</td>\n",
       "      <td>1</td>\n",
       "      <td>0</td>\n",
       "    </tr>\n",
       "  </tbody>\n",
       "</table>\n",
       "</div>"
      ],
      "text/plain": [
       "  date_events        sex   age         crimeType crimeTypeViolence neighborhood_events  longitude   latitude  year_event  month_event  day_event  hour_event\n",
       "0  2021-01-01  masculino  26.0  robo de vehiculo     sin violencia  carlos zapata vela -99.097667  19.379998        2021            1          1           0\n",
       "1  2021-01-01  masculino  20.0  lesiones dolosas     arma de fuego             morelos -99.123759  19.448723        2021            1          1           0\n",
       "2  2021-01-01  masculino  31.0  lesiones dolosas     arma de fuego   lomas de padierna -99.228027  19.297760        2021            1          1           0"
      ]
     },
     "execution_count": 22,
     "metadata": {},
     "output_type": "execute_result"
    }
   ],
   "source": [
    "# For 2020\n",
    "victims_data_21 = processed_victims_data[processed_victims_data.year_event == 2021].reset_index(drop=True)\n",
    "print(\"Number of neighborhoods: \", len(victims_data_21.neighborhood_events.unique()))\n",
    "print()\n",
    "victims_data_21.head(3)"
   ]
  },
  {
   "cell_type": "code",
   "execution_count": 30,
   "id": "8b59b9eb-d430-474b-914f-ee958bb72b65",
   "metadata": {},
   "outputs": [
    {
     "name": "stdout",
     "output_type": "stream",
     "text": [
      "Shape of dataframe:  (10214, 3)\n",
      "\n"
     ]
    },
    {
     "data": {
      "text/html": [
       "<div>\n",
       "<style scoped>\n",
       "    .dataframe tbody tr th:only-of-type {\n",
       "        vertical-align: middle;\n",
       "    }\n",
       "\n",
       "    .dataframe tbody tr th {\n",
       "        vertical-align: top;\n",
       "    }\n",
       "\n",
       "    .dataframe thead th {\n",
       "        text-align: right;\n",
       "    }\n",
       "</style>\n",
       "<table border=\"1\" class=\"dataframe\">\n",
       "  <thead>\n",
       "    <tr style=\"text-align: right;\">\n",
       "      <th></th>\n",
       "      <th>month_event</th>\n",
       "      <th>neighborhood_events</th>\n",
       "      <th>count</th>\n",
       "    </tr>\n",
       "  </thead>\n",
       "  <tbody>\n",
       "    <tr>\n",
       "      <th>0</th>\n",
       "      <td>1</td>\n",
       "      <td>15 de agosto</td>\n",
       "      <td>3</td>\n",
       "    </tr>\n",
       "    <tr>\n",
       "      <th>1</th>\n",
       "      <td>1</td>\n",
       "      <td>16 de septiembre</td>\n",
       "      <td>2</td>\n",
       "    </tr>\n",
       "    <tr>\n",
       "      <th>2</th>\n",
       "      <td>1</td>\n",
       "      <td>1a ampliación presidentes</td>\n",
       "      <td>1</td>\n",
       "    </tr>\n",
       "    <tr>\n",
       "      <th>3</th>\n",
       "      <td>1</td>\n",
       "      <td>1a victoria</td>\n",
       "      <td>1</td>\n",
       "    </tr>\n",
       "    <tr>\n",
       "      <th>4</th>\n",
       "      <td>1</td>\n",
       "      <td>1° de mayo</td>\n",
       "      <td>2</td>\n",
       "    </tr>\n",
       "  </tbody>\n",
       "</table>\n",
       "</div>"
      ],
      "text/plain": [
       "   month_event        neighborhood_events  count\n",
       "0            1               15 de agosto      3\n",
       "1            1           16 de septiembre      2\n",
       "2            1  1a ampliación presidentes      1\n",
       "3            1                1a victoria      1\n",
       "4            1                 1° de mayo      2"
      ]
     },
     "execution_count": 30,
     "metadata": {},
     "output_type": "execute_result"
    }
   ],
   "source": [
    "pt_victims_data_21 = pd.pivot_table(victims_data_21, index=['month_event', 'neighborhood_events'], values='date_events',  columns=['year_event'], \n",
    "                                aggfunc='count').reset_index()\n",
    "pt_victims_data_21.columns=[\"month_event\", \"neighborhood_events\", \"count\"]\n",
    "print(\"Shape of dataframe: \", pt_victims_data_21.shape)\n",
    "print()\n",
    "pt_victims_data_21.head()"
   ]
  },
  {
   "cell_type": "code",
   "execution_count": 31,
   "id": "2178b18e-5f58-40ac-ae19-28ea1bdaf590",
   "metadata": {},
   "outputs": [
    {
     "data": {
      "image/png": "[encoded data removed]",
      "text/plain": [
       "<Figure size 360x144 with 1 Axes>"
      ]
     },
     "metadata": {
      "needs_background": "light"
     },
     "output_type": "display_data"
    },
    {
     "data": {
      "image/png": "[encoded data removed]",
      "text/plain": [
       "<Figure size 360x144 with 1 Axes>"
      ]
     },
     "metadata": {
      "needs_background": "light"
     },
     "output_type": "display_data"
    },
    {
     "data": {
      "image/png": "[encoded data removed]",
      "text/plain": [
       "<Figure size 360x144 with 1 Axes>"
      ]
     },
     "metadata": {
      "needs_background": "light"
     },
     "output_type": "display_data"
    },
    {
     "data": {
      "image/png": "[encoded data removed]",
      "text/plain": [
       "<Figure size 360x144 with 1 Axes>"
      ]
     },
     "metadata": {
      "needs_background": "light"
     },
     "output_type": "display_data"
    },
    {
     "data": {
      "image/png": "[encoded data removed]",
      "text/plain": [
       "<Figure size 360x144 with 1 Axes>"
      ]
     },
     "metadata": {
      "needs_background": "light"
     },
     "output_type": "display_data"
    },
    {
     "data": {
      "image/png": "[encoded data removed]",
      "text/plain": [
       "<Figure size 360x144 with 1 Axes>"
      ]
     },
     "metadata": {
      "needs_background": "light"
     },
     "output_type": "display_data"
    },
    {
     "data": {
      "image/png": "[encoded data removed]",
      "text/plain": [
       "<Figure size 360x144 with 1 Axes>"
      ]
     },
     "metadata": {
      "needs_background": "light"
     },
     "output_type": "display_data"
    },
    {
     "data": {
      "image/png": "[encoded data removed]",
      "text/plain": [
       "<Figure size 360x144 with 1 Axes>"
      ]
     },
     "metadata": {
      "needs_background": "light"
     },
     "output_type": "display_data"
    },
    {
     "data": {
      "image/png": "[encoded data removed]",
      "text/plain": [
       "<Figure size 360x144 with 1 Axes>"
      ]
     },
     "metadata": {
      "needs_background": "light"
     },
     "output_type": "display_data"
    },
    {
     "data": {
      "image/png": "[encoded data removed]",
      "text/plain": [
       "<Figure size 360x144 with 1 Axes>"
      ]
     },
     "metadata": {
      "needs_background": "light"
     },
     "output_type": "display_data"
    },
    {
     "data": {
      "image/png": "[encoded data removed]",
      "text/plain": [
       "<Figure size 360x144 with 1 Axes>"
      ]
     },
     "metadata": {
      "needs_background": "light"
     },
     "output_type": "display_data"
    },
    {
     "data": {
      "image/png": "[encoded data removed]",
      "text/plain": [
       "<Figure size 360x144 with 1 Axes>"
      ]
     },
     "metadata": {
      "needs_background": "light"
     },
     "output_type": "display_data"
    }
   ],
   "source": [
    "# Graph histograms of 2021 crime reports, aggregated by neighborhood and month\n",
    "for month in pt_victims_data_21.month_event.unique():\n",
    "    df = pt_victims_data_21[pt_victims_data_21.month_event == month]\n",
    "    fig, axes = plt.subplots(figsize=(5,2))\n",
    "    hist = sns.histplot(data=df, x='count')\n",
    "    plt.show()"
   ]
  },
  {
   "cell_type": "code",
   "execution_count": null,
   "id": "a9b1cd0e-c028-4034-9f43-067aca963b4a",
   "metadata": {},
   "outputs": [],
   "source": []
  }
 ],
 "metadata": {
  "kernelspec": {
   "display_name": "Python 3 (ipykernel)",
   "language": "python",
   "name": "python3"
  },
  "language_info": {
   "codemirror_mode": {
    "name": "ipython",
    "version": 3
   },
   "file_extension": ".py",
   "mimetype": "text/x-python",
   "name": "python",
   "nbconvert_exporter": "python",
   "pygments_lexer": "ipython3",
   "version": "3.9.7"
  }
 },
 "nbformat": 4,
 "nbformat_minor": 5
}
